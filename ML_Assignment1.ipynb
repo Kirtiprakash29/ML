{
 "cells": [
  {
   "cell_type": "markdown",
   "id": "ceaaace4-1948-4056-ac01-03d2cffb25a5",
   "metadata": {},
   "source": [
    "Q1. Explain the following with an example.\n",
    "AI\n",
    "ML\n",
    "DL"
   ]
  },
  {
   "cell_type": "markdown",
   "id": "9af1a3e0-c67f-4c12-8a8f-94f2bbf528c9",
   "metadata": {},
   "source": [
    "Artificial intelligence (AI) refers to computer systems capable of performing complex tasks without human interventionEx- Self driving cars\n",
    "\n",
    "\n",
    "Machine Learning provides statistical tool and comuter software technique to learn,analyse,visualise and develop predictive model from data. Example - Netflix moview recommenndation\n",
    "\n",
    "\n",
    "Deep Learning(DL) mimics human brain for multilayered neural network Deep learning is the subset of machine learning methods based on artificial neural networks with representation learning. Ex- Chatbot,Image Detection"
   ]
  },
  {
   "cell_type": "markdown",
   "id": "beb37ef9-b8bf-48c2-bd20-993ed3e069fb",
   "metadata": {},
   "source": [
    "Q2. What is supervised Learning? List example\n",
    "\n",
    "Supervised learning is a category of machine learning that uses labeled datasets to train algorithms to predict outcomes and recognize patterns. Ex- Linear Regression"
   ]
  },
  {
   "cell_type": "markdown",
   "id": "d16afd21-3705-4ace-9301-ae251b104bd2",
   "metadata": {},
   "source": [
    "Q3 .What is Unsupervised Learning? List example\n",
    "\n",
    "Unsupervised learning in artificial intelligence is a type of machine learning that learns from data without human supervision. Unlike supervised learning, unsupervised machine learning models are given unlabeled data and allowed to discover patterns and insights without any explicit guidance or instruction. Ex - Clustering"
   ]
  },
  {
   "cell_type": "markdown",
   "id": "d2791596-2494-47b0-809a-d60e96f843cc",
   "metadata": {},
   "source": [
    "Q4. What is difference between AI,ML,DL,DS?\n",
    "\n",
    "AI simulates human intelligence to perform tasks and make decisions.\n",
    "ML is a subset of AI that uses algorithms to learn patterns from data.\n",
    "DL is a subset of ML that employs artificial neural networks for complex tasks.\n",
    "DS involves all above and also business insights with data interpretation. Data Science also focuses on data analysis and insights"
   ]
  },
  {
   "cell_type": "markdown",
   "id": "4b246fcf-3c47-4429-a909-2c524215589b",
   "metadata": {},
   "source": [
    "Q5.What are main differences between Supervised,Unsupervised,Semisupervised learnings?\n",
    "\n",
    "Main difference is presence of Data. Supervised learning is a problem with labeled data, expecting to develop predictive capability. Unsupervised learning is discovering process, diving into unlabeled data to capture hidden information. Semi-supervised learning is a blend of supervised and unsupervised learning."
   ]
  },
  {
   "cell_type": "markdown",
   "id": "3d3b5606-659e-4596-bbc1-b35294895cb1",
   "metadata": {},
   "source": [
    "Q6. What is train,test,validation split? Give example\n",
    "\n",
    "The train-test split is a technique in machine learning where a dataset is divided into two subsets: the training set and test set. The training set is used to train the model, while the test set is used to evaluate the final model's performance and generalization capabilities.\n",
    "validation set that allows you to check how your model would perform with a new data set"
   ]
  },
  {
   "cell_type": "markdown",
   "id": "c05f91e4-e449-4599-b6a9-e1ccf1bb2c0c",
   "metadata": {},
   "source": [
    "Q7. How can unsupervised learning be used in anamoly detection?\n",
    "\n",
    "Anomaly detection techniques of unsupervised nature assume that normal data points occur considerably more frequently than anomalous data points. This assumption is used to classify data points that occur less frequently as anomalies. Unsupervised techniques assign each data point a score instead of a label"
   ]
  },
  {
   "cell_type": "markdown",
   "id": "2ac0c12f-253a-4fee-8284-44b1cf9debcf",
   "metadata": {},
   "source": [
    "Q8. List down some commonly used algorithms of Supervised and unsupervised learning.\n",
    "\n",
    "Supervised Learning Algorithm - Linear Regression,Logistic Regression,Random Forest\n",
    "Unsupervised Learning algorithm - Clustering lgorithms like Hierarchial and Kmeans clustering"
   ]
  },
  {
   "cell_type": "code",
   "execution_count": null,
   "id": "e41a79ad-7e58-4761-bacf-5a5512abf621",
   "metadata": {},
   "outputs": [],
   "source": []
  }
 ],
 "metadata": {
  "kernelspec": {
   "display_name": "Python 3 (ipykernel)",
   "language": "python",
   "name": "python3"
  },
  "language_info": {
   "codemirror_mode": {
    "name": "ipython",
    "version": 3
   },
   "file_extension": ".py",
   "mimetype": "text/x-python",
   "name": "python",
   "nbconvert_exporter": "python",
   "pygments_lexer": "ipython3",
   "version": "3.10.8"
  }
 },
 "nbformat": 4,
 "nbformat_minor": 5
}
