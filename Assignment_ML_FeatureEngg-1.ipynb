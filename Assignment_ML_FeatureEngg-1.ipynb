{
 "cells": [
  {
   "cell_type": "markdown",
   "id": "a29c7469-5e3d-4236-921f-6e0192bcfe53",
   "metadata": {},
   "source": [
    "Q1: What are missing values in a dataset? Why is it essential to handle missing values? Name some\n",
    "algorithms that are not affected by missing values.\n",
    "\n",
    "\n",
    "-Missing data is defined as the values or data that i\n",
    "s not stored (or not present) for some variable/s in the given dataset.\n",
    "\n",
    "It is important to handle the missing values appropriately. Many machine learning algorithms fail if the dataset contains missing values. Also sometimes when no of samples are low then missing value might not give proper curve or model will not learn from data tro give prediction for test data\n",
    "\n",
    "Algorithms like K-nearest and Naive Bayes support data with missing values"
   ]
  },
  {
   "cell_type": "markdown",
   "id": "b74a256b-7a4d-49d3-9dc7-0da49148f1fb",
   "metadata": {},
   "source": [
    "Q2: List down techniques used to handle missing data. Give an example of each with python code.\n",
    "\n",
    "-Drop the Row or column\n",
    "df.dropna()\n",
    "-Impute/Replace data with mean/median/mode value for continuous data\n",
    "df['Age_med'] = df['age'].fillna(df['age'].median())   -> Replace age by median age\n",
    "-Impute/Replace data with mode value for categorical data\n",
    "-Predict missing value by algorithm"
   ]
  },
  {
   "cell_type": "markdown",
   "id": "28bf7e96-61e3-45ef-ae09-a7b28dd428bd",
   "metadata": {},
   "source": [
    "Q3.Explain the imbalanced data. What will happen if imbalanced data is not handled?\n",
    "-A classification data set with skewed class proportions is called imbalanced.\n",
    "\n",
    "When a dataset is imbalanced, several issues may arise. Models may exhibit bias toward the majority class, resulting in poor predictions for the minority class. Accuracy as an evaluation metric can be misleading, as it may appear high while the model's performance on the minority class is lacking\n",
    "\n"
   ]
  },
  {
   "cell_type": "markdown",
   "id": "2db0700e-e1d7-4ff2-810c-bedccc5e0d70",
   "metadata": {},
   "source": [
    "Q4: What are Up-sampling and Down-sampling? Explain with an example when up-sampling and downsampling\n",
    "are required.\n",
    "Upsampling is the process of randomly duplicating observations from the minority class to reinforce its signal.\n",
    "\n",
    "There is data wherin values are 900:100. Here to resample->100 one needs to be upsampled to 900 and 90 needs to be downsampled to 100.\n",
    "from sklearn.utils import resample\n",
    "df_minority_upsampled = resample(df_minority,replace = True,n_samples = len(df_majority),random_state =42)\n",
    "\n",
    "\n",
    "Downsampling involves randomly removing observations from the majority class to prevent its signal from dominating the learning algorithm.\n",
    "df_majority_downsample = resample(df_majority,replace = False,n_samples = len(df_minority),random_state =42)"
   ]
  },
  {
   "cell_type": "markdown",
   "id": "c43a8194-ae40-4e0d-bb93-47088eb1e0ab",
   "metadata": {},
   "source": [
    "Q5: What is data Augmentation? Explain SMOTE.\n",
    "\n",
    "Data augmentation is a technique of artificially increasing the training set by creating modified copies of a dataset using existing data. It includes making minor changes to the dataset or using deep learning to generate new data points.\n",
    "SMOTE is a technique to up-sample the minority classes while avoiding overfitting. It does this by generating new synthetic examples close to the other points (belonging to the minority class) in feature space"
   ]
  },
  {
   "cell_type": "markdown",
   "id": "4ef36180-50a1-4b71-bf19-e7aa609a1554",
   "metadata": {},
   "source": [
    "Q6: What are outliers in a dataset? Why is it essential to handle outliers?\n",
    "-An outlier is an observation that lies an abnormal distance from other values in a random sample from a population. In a sense, this definition leaves it up to the analyst (or a consensus process) to decide what will be considered abnormal. They are data records that differ dramatically from all others, they distinguish themselves in one or more characteristics. In other words, an outlier is a value that escapes normality and can (and probably will) cause anomalies in the results obtained through algorithms and analytical systems. There, they always need some degrees of attention.\n",
    "\n",
    "Understanding the outliers is critical in analyzing data for at least two aspects:\n",
    "\n",
    "The outliers may negatively bias the entire result of an analysis;\n",
    "the behavior of outliers may be precisely what is being sought.\n",
    "While working with outliers in NLP, many words can represent them depending on the context."
   ]
  },
  {
   "cell_type": "markdown",
   "id": "54a0c04b-ddb2-4967-9f36-c8c81d1d97cd",
   "metadata": {},
   "source": [
    "Q7: You are working on a project that requires analyzing customer data. However, you notice that some of the data is missing. What are some techniques you can use to handle the missing data in your analysis?\n",
    "\n",
    "-To drop the data if samples numbers are enough\n",
    "-If possible replace values by average of that attribute\n",
    "If categorical then replace value by mode\n",
    "-Try to predict the missing value using other attributes"
   ]
  },
  {
   "cell_type": "markdown",
   "id": "64292237-1224-4ac8-9803-6830ba155ccf",
   "metadata": {},
   "source": [
    "Q8: You are working with a large dataset and find that a small percentage of the data is missing. What are some strategies you can use to determine if the missing data is missing at random or if there is a pattern to the missing data?\n",
    "\n",
    "\n",
    "-.isnull()\n",
    "\n",
    "This function returns a pandas dataframe, where each value is a boolean value True if the value is missing, False otherwise.\n",
    "\n",
    ".notnull()\n",
    "\n",
    "Similarly to the previous function, the values for this one are False if either NaN or None value is detected.\n",
    "\n",
    ".info()\n",
    "\n",
    "This function generates three main columns, including the “Non-Null Count” which shows the number of non-missing values for each column.\n",
    "\n",
    ".isna()\n",
    "\n",
    "This one is similar to isnull and notnull. However it shows True only when the missing value is NaN type.\n",
    "\n",
    "There are three main types of missing data: (1) Missing Completely at Random (MCAR), (2) Missing at Random (MAR), and (3) Missing Not at Random (MNAR).\n"
   ]
  },
  {
   "cell_type": "markdown",
   "id": "8e0e642f-051e-4df6-9a7d-25de829a65ed",
   "metadata": {},
   "source": [
    "Q9: Suppose you are working on a medical diagnosis project and find that the majority of patients in the dataset do not have the condition of interest, while a small percentage do. What are some strategies you can use to evaluate the performance of your machine learning model on this imbalanced dataset?\n",
    "\n",
    "Try to get area of interest based pon other attributes and upsample dataset"
   ]
  },
  {
   "cell_type": "markdown",
   "id": "415a9945-01f7-460e-8e86-15d04b46fe64",
   "metadata": {},
   "source": [
    "Q10: When attempting to estimate customer satisfaction for a project, you discover that the dataset is unbalanced, with the bulk of customers reporting being satisfied. What methods can you employ to balance the dataset and down-sample the majority class?\n",
    " Under-sampling - NearMiss3: When instances of two different classes are very close to each other, it removes the instances of the majority class to increase the spaces between the two classes. It works in 2 steps: Firstly, for each minority class instance, their M nearest-neighbors will be stored. Then finally, the majority class instances are selected for which the average distance to the N nearest-neighbors is the largest."
   ]
  },
  {
   "cell_type": "markdown",
   "id": "9146e155-ea60-47e4-95c3-37b1131c1676",
   "metadata": {},
   "source": [
    "Q11: You discover that the dataset is unbalanced with a low percentage of occurrences while working on a\n",
    "project that requires you to estimate the occurrence of a rare event. What methods can you employ to\n",
    "balance the dataset and up-sample the minority class?\n",
    "\n",
    "-Using SMOTE or Resample of sklearn"
   ]
  },
  {
   "cell_type": "code",
   "execution_count": null,
   "id": "ee6ddfa9-1927-4d93-bb82-a9c6f39b820d",
   "metadata": {},
   "outputs": [],
   "source": []
  }
 ],
 "metadata": {
  "kernelspec": {
   "display_name": "Python 3 (ipykernel)",
   "language": "python",
   "name": "python3"
  },
  "language_info": {
   "codemirror_mode": {
    "name": "ipython",
    "version": 3
   },
   "file_extension": ".py",
   "mimetype": "text/x-python",
   "name": "python",
   "nbconvert_exporter": "python",
   "pygments_lexer": "ipython3",
   "version": "3.10.8"
  }
 },
 "nbformat": 4,
 "nbformat_minor": 5
}
